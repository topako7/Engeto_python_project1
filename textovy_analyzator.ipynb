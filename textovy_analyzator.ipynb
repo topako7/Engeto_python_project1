{
 "cells": [
  {
   "cell_type": "code",
   "execution_count": null,
   "metadata": {},
   "outputs": [],
   "source": [
    "\"\"\"\n",
    "textovy_analyzator.ipynb: první projekt do Engeto Online Python Akademie\n",
    "author: Tomáš Pakosta\n",
    "email: tpakosta@gmail.com\n",
    "discord: Tom P. (tom.pa.costa) Tom#2303\n",
    "\"\"\""
   ]
  },
  {
   "cell_type": "code",
   "execution_count": 8,
   "metadata": {},
   "outputs": [
    {
     "name": "stdout",
     "output_type": "stream",
     "text": [
      "unregistered user, terminating the program..\n"
     ]
    }
   ],
   "source": [
    "def check_user(username, password) -> bool:\n",
    "    \"\"\"\n",
    "    Verifies if the given username and password match the stored credentials.\n",
    "    \"\"\"\n",
    "    # Ensure inputs are strings\n",
    "    username = str(username)\n",
    "    password = str(password)\n",
    "    \n",
    "    # Defined data of users - this should be check by unique test if it will be dynamic\n",
    "    data = {\n",
    "        \"bob\"   :\"123\",\n",
    "        \"ann\"   :\"pass123\",\n",
    "        \"mike\"  :\"password123\",\n",
    "        \"liz\"   :\"pass123\" \n",
    "    }\n",
    "\n",
    "    if username in data: \n",
    "        return data[username] == password\n",
    "    return False\n",
    "\n",
    "username = input(\"Enter your username: \")\n",
    "password = input(\"Enter your password: \")\n",
    "\n",
    "result = check_user(username,password)\n",
    "\n",
    "if result: \n",
    "    print(f\"----------------------------------------\")\n",
    "    print(f\"Welcome to the app, {username}.\")\n",
    "    print(f\"We have 3 texts to be analyzed.\")\n",
    "    print(f\"----------------------------------------\")\n",
    "\n",
    "else: print(f\"unregistered user, terminating the program..\")\n"
   ]
  }
 ],
 "metadata": {
  "kernelspec": {
   "display_name": "Python 3",
   "language": "python",
   "name": "python3"
  },
  "language_info": {
   "codemirror_mode": {
    "name": "ipython",
    "version": 3
   },
   "file_extension": ".py",
   "mimetype": "text/x-python",
   "name": "python",
   "nbconvert_exporter": "python",
   "pygments_lexer": "ipython3",
   "version": "3.12.3"
  }
 },
 "nbformat": 4,
 "nbformat_minor": 2
}
